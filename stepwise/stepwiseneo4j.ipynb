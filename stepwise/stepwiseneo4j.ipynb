{
 "cells": [
  {
   "cell_type": "code",
   "execution_count": 2,
   "id": "140b7f41-f0f1-49b6-827a-ba156a3527c1",
   "metadata": {},
   "outputs": [],
   "source": [
    "import pandas as pd"
   ]
  },
  {
   "cell_type": "code",
   "execution_count": 3,
   "id": "6b2b2401-a5c0-482e-a9c2-9e3f7d17db3d",
   "metadata": {},
   "outputs": [],
   "source": [
    "overall_data = pd.read_excel('tfcu_member.xlsx', index_col=0, sheet_name='KPI Data')\n",
    "df_ = overall_data.drop(overall_data.index[0:3])\n",
    "df = df_.drop(columns=['Unnamed: 10'])\n",
    "df_time = df[['Week','Member Retention',\n",
    "       'Employee Retention', 'Member Satisfaction NPS', 'Fraud rate',\n",
    "       'Employee satisfaction', 'Number of Employee Relations Issues',\n",
    "       '# of Member complaints', 'Member acquisition cost (CAC)',\n",
    "       'Number of Compliance Issues', 'Compliance Investigation Cycle Time',\n",
    "       'Decline rate', 'Financial impact due to attacks',\n",
    "       'Attempted vs Fraudulent Transactions', 'Final Approval rate',\n",
    "       'Fraudulent Vs Declined Transactions', 'System Uptime',\n",
    "       'Severity of attacks', 'Mean Time Between Failures (MTBF)',\n",
    "       'Cost per incident', 'Number of cybersecurity incidents reported'\n",
    "             ]].groupby(['Week']).mean()"
   ]
  },
  {
   "cell_type": "code",
   "execution_count": 11,
   "id": "d9422e18-dc93-4953-8c34-1847b9b26057",
   "metadata": {},
   "outputs": [],
   "source": [
    "from statsmodels.regression.linear_model import OLS\n",
    "import statsmodels.api as sm\n",
    "import numpy as np"
   ]
  },
  {
   "cell_type": "code",
   "execution_count": 15,
   "id": "a9f49039-2ebf-4bd1-b97c-20cc6304b2c6",
   "metadata": {},
   "outputs": [],
   "source": [
    "import pandas as pd\n",
    "import numpy as np\n",
    "from sklearn.linear_model import LinearRegression\n",
    "from mlxtend.feature_selection import SequentialFeatureSelector as SFS\n",
    "from sklearn.model_selection import train_test_split\n",
    "\n",
    "# Load your dataset\n",
    "# Assuming your dataset is loaded into a DataFrame called df\n",
    "df = df_time\n",
    "# Create an empty DataFrame to store results\n",
    "results_df = pd.DataFrame(columns=['Dependent_Variable', 'Selected_Features', 'Coefficients'])\n",
    "\n",
    "# Iterate through each column as dependent variable\n",
    "for column in df.columns:\n",
    "    # Split data into train and test sets\n",
    "    X = df.drop(column, axis=1)  # Independent variables\n",
    "    y = df[column]                # Dependent variable\n",
    "    \n",
    "    # X_train, X_test, y_train, y_test = train_test_split(X, y, test_size=0.2, random_state=42)\n",
    "    \n",
    "    # Define the linear regression model\n",
    "    linreg = LinearRegression(fit_intercept=False)\n",
    "    \n",
    "    # Perform stepwise selection\n",
    "    sfs = SFS(linreg, \n",
    "              k_features='best', \n",
    "              forward=True, \n",
    "              floating=False, \n",
    "              scoring='neg_mean_squared_error', \n",
    "              cv=5)\n",
    "    \n",
    "    sfs.fit(X, y)\n",
    "    \n",
    "    # Get selected features\n",
    "    selected_features = list(sfs.k_feature_names_)\n",
    "    selected_indices = list(sfs.k_feature_idx_)\n",
    "    \n",
    "    # Fit the linear regression model on selected features\n",
    "    linreg.fit(X.iloc[:, list(selected_indices)], y)\n",
    "    \n",
    "    # Get coefficients and p-values\n",
    "    coefficients = linreg.coef_\n",
    "    intercept = linreg.intercept_\n",
    "    # p_values = linreg.p\n",
    "    \n",
    "    # Create a dictionary to store the results\n",
    "    result_dict = {\n",
    "        'Dependent_Variable': column,\n",
    "        'Selected_Features': ', '.join(selected_features),\n",
    "        'Coefficients': ', '.join(map(str, coefficients)),\n",
    "        \n",
    "        # 'P_Values': ', '.join(map(str, p_values))\n",
    "    }\n",
    "    # Append the results to the DataFrame\n",
    "    results_df = results_df._append(result_dict, ignore_index=True)\n"
   ]
  },
  {
   "cell_type": "code",
   "execution_count": 16,
   "id": "c3385c0e-2907-4503-98ca-1f80fe807e87",
   "metadata": {},
   "outputs": [
    {
     "data": {
      "text/html": [
       "<div>\n",
       "<style scoped>\n",
       "    .dataframe tbody tr th:only-of-type {\n",
       "        vertical-align: middle;\n",
       "    }\n",
       "\n",
       "    .dataframe tbody tr th {\n",
       "        vertical-align: top;\n",
       "    }\n",
       "\n",
       "    .dataframe thead th {\n",
       "        text-align: right;\n",
       "    }\n",
       "</style>\n",
       "<table border=\"1\" class=\"dataframe\">\n",
       "  <thead>\n",
       "    <tr style=\"text-align: right;\">\n",
       "      <th></th>\n",
       "      <th>Dependent_Variable</th>\n",
       "      <th>Selected_Features</th>\n",
       "      <th>Coefficients</th>\n",
       "    </tr>\n",
       "  </thead>\n",
       "  <tbody>\n",
       "    <tr>\n",
       "      <th>0</th>\n",
       "      <td>Member Retention</td>\n",
       "      <td># of Member complaints, Final Approval rate, S...</td>\n",
       "      <td>0.4155032676522855, 0.5401360711722573, 0.2607...</td>\n",
       "    </tr>\n",
       "    <tr>\n",
       "      <th>1</th>\n",
       "      <td>Employee Retention</td>\n",
       "      <td>Member Satisfaction NPS, Number of Employee Re...</td>\n",
       "      <td>-0.249536174237157, -0.6051620501475861, 0.100...</td>\n",
       "    </tr>\n",
       "    <tr>\n",
       "      <th>2</th>\n",
       "      <td>Member Satisfaction NPS</td>\n",
       "      <td>Member Retention, Employee satisfaction, Numbe...</td>\n",
       "      <td>-0.18500169552286458, -1.0503246834831774, -2....</td>\n",
       "    </tr>\n",
       "    <tr>\n",
       "      <th>3</th>\n",
       "      <td>Fraud rate</td>\n",
       "      <td>Member Retention, Employee Retention, Attempte...</td>\n",
       "      <td>-0.00416097270501884, 0.00279668859930402, -0....</td>\n",
       "    </tr>\n",
       "    <tr>\n",
       "      <th>4</th>\n",
       "      <td>Employee satisfaction</td>\n",
       "      <td>Member Satisfaction NPS, Fraud rate, # of Memb...</td>\n",
       "      <td>-0.03166957417232354, 1.0687708197608694, -0.0...</td>\n",
       "    </tr>\n",
       "  </tbody>\n",
       "</table>\n",
       "</div>"
      ],
      "text/plain": [
       "        Dependent_Variable                                  Selected_Features  \\\n",
       "0         Member Retention  # of Member complaints, Final Approval rate, S...   \n",
       "1       Employee Retention  Member Satisfaction NPS, Number of Employee Re...   \n",
       "2  Member Satisfaction NPS  Member Retention, Employee satisfaction, Numbe...   \n",
       "3               Fraud rate  Member Retention, Employee Retention, Attempte...   \n",
       "4    Employee satisfaction  Member Satisfaction NPS, Fraud rate, # of Memb...   \n",
       "\n",
       "                                        Coefficients  \n",
       "0  0.4155032676522855, 0.5401360711722573, 0.2607...  \n",
       "1  -0.249536174237157, -0.6051620501475861, 0.100...  \n",
       "2  -0.18500169552286458, -1.0503246834831774, -2....  \n",
       "3  -0.00416097270501884, 0.00279668859930402, -0....  \n",
       "4  -0.03166957417232354, 1.0687708197608694, -0.0...  "
      ]
     },
     "execution_count": 16,
     "metadata": {},
     "output_type": "execute_result"
    }
   ],
   "source": [
    "results_df.head()"
   ]
  },
  {
   "cell_type": "code",
   "execution_count": 17,
   "id": "98a6636e-3caa-4a37-b164-d5107e1aaaef",
   "metadata": {},
   "outputs": [
    {
     "data": {
      "text/plain": [
       "0                               Member Retention\n",
       "1                             Employee Retention\n",
       "2                        Member Satisfaction NPS\n",
       "3                                     Fraud rate\n",
       "4                          Employee satisfaction\n",
       "5            Number of Employee Relations Issues\n",
       "6                         # of Member complaints\n",
       "7                  Member acquisition cost (CAC)\n",
       "8                    Number of Compliance Issues\n",
       "9            Compliance Investigation Cycle Time\n",
       "10                                  Decline rate\n",
       "11               Financial impact due to attacks\n",
       "12          Attempted vs Fraudulent Transactions\n",
       "13                           Final Approval rate\n",
       "14           Fraudulent Vs Declined Transactions\n",
       "15                                 System Uptime\n",
       "16                           Severity of attacks\n",
       "17             Mean Time Between Failures (MTBF)\n",
       "18                             Cost per incident\n",
       "19    Number of cybersecurity incidents reported\n",
       "Name: Dependent_Variable, dtype: object"
      ]
     },
     "execution_count": 17,
     "metadata": {},
     "output_type": "execute_result"
    }
   ],
   "source": [
    "results_df['Dependent_Variable']"
   ]
  },
  {
   "cell_type": "code",
   "execution_count": 19,
   "id": "a822af78-ea31-4494-8ef9-4de2deb2eb7e",
   "metadata": {},
   "outputs": [
    {
     "data": {
      "text/html": [
       "<table><tr><th>n</th><th>n_sq</th></tr><tr><td style=\"text-align:right\">1</td><td style=\"text-align:right\">1</td></tr><tr><td style=\"text-align:right\">2</td><td style=\"text-align:right\">4</td></tr><tr><td style=\"text-align:right\">3</td><td style=\"text-align:right\">9</td></tr></table>"
      ],
      "text/plain": [
       " n | n_sq \n",
       "---|------\n",
       " 1 |    1 \n",
       " 2 |    4 \n",
       " 3 |    9 "
      ]
     },
     "execution_count": 19,
     "metadata": {},
     "output_type": "execute_result"
    }
   ],
   "source": [
    "from py2neo import Graph\n",
    "graph = Graph(\"bolt://localhost:7687\", auth=(\"neo4j\", \"India@123\"))\n",
    "graph.run(\"\")"
   ]
  },
  {
   "cell_type": "code",
   "execution_count": null,
   "id": "d0aa90f4-2867-4a3d-9db6-762c95027213",
   "metadata": {},
   "outputs": [],
   "source": [
    "\n"
   ]
  },
  {
   "cell_type": "code",
   "execution_count": 21,
   "id": "c3d31e57-e3a7-4f8e-9de7-3d543d29aa47",
   "metadata": {},
   "outputs": [],
   "source": [
    "for k in results_df['Dependent_Variable']:\n",
    "    graph.run(\"CREATE (p:KPI {name: $x}) \", x=k)"
   ]
  },
  {
   "cell_type": "code",
   "execution_count": 34,
   "id": "a7400779-c129-4a71-ae47-8075513007bd",
   "metadata": {},
   "outputs": [
    {
     "name": "stdout",
     "output_type": "stream",
     "text": [
      "Member Retention -0.05174013574950742\n",
      "Fraud rate -2.0736419860431363\n",
      "# of Member complaints 0.06310588883621072\n",
      "Member acquisition cost (CAC) -0.009105123765616195\n",
      "Compliance Investigation Cycle Time 0.04825839269777032\n",
      "Final Approval rate 0.08918270452949859\n"
     ]
    }
   ],
   "source": [
    "f"
   ]
  },
  {
   "cell_type": "code",
   "execution_count": 36,
   "id": "f49e0a5d-bdda-41de-8eef-d81a1f220bbc",
   "metadata": {},
   "outputs": [],
   "source": [
    "for index, row in results_df.iterrows():\n",
    "    \n",
    "    coefficients = [float(value.strip()) for value in row['Coefficients'].split(\",\")]\n",
    "    selected_features = [value.strip() for value in row['Selected_Features'].split(\",\")]\n",
    "    for feature, coeff in zip(selected_features,coefficients):\n",
    "       graph.run(\"\"\"MATCH (n:KPI {name:$f})\n",
    "                    MATCH (m:KPI {name:$s})\n",
    "                   CREATE (n)-[rel:LINEAR_RELATION {coeff:$c}]->(m)\"\"\", f=feature,\n",
    "                 s=row['Dependent_Variable'], c=coeff)\n"
   ]
  },
  {
   "cell_type": "code",
   "execution_count": null,
   "id": "6c2670fc-c4de-411e-8178-fa98d323ae03",
   "metadata": {},
   "outputs": [],
   "source": []
  },
  {
   "cell_type": "code",
   "execution_count": null,
   "id": "e5705b64-042a-4fa8-b1bd-dfee8fc91112",
   "metadata": {},
   "outputs": [],
   "source": []
  }
 ],
 "metadata": {
  "kernelspec": {
   "display_name": "Python 3 (ipykernel)",
   "language": "python",
   "name": "python3"
  },
  "language_info": {
   "codemirror_mode": {
    "name": "ipython",
    "version": 3
   },
   "file_extension": ".py",
   "mimetype": "text/x-python",
   "name": "python",
   "nbconvert_exporter": "python",
   "pygments_lexer": "ipython3",
   "version": "3.9.18"
  }
 },
 "nbformat": 4,
 "nbformat_minor": 5
}
