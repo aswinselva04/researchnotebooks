{
 "cells": [
  {
   "cell_type": "code",
   "execution_count": 1,
   "id": "a4222410-7e27-4dad-9e0a-74ae3986ca5b",
   "metadata": {},
   "outputs": [
    {
     "name": "stderr",
     "output_type": "stream",
     "text": [
      "/Users/aswin/miniconda3/envs/mlenv/lib/python3.11/site-packages/tqdm/auto.py:21: TqdmWarning: IProgress not found. Please update jupyter and ipywidgets. See https://ipywidgets.readthedocs.io/en/stable/user_install.html\n",
      "  from .autonotebook import tqdm as notebook_tqdm\n",
      "Downloading builder script: 100%|██████████| 7.46k/7.46k [00:00<00:00, 2.22MB/s]\n",
      "Downloading metadata: 100%|████████████████| 4.28k/4.28k [00:00<00:00, 5.22MB/s]\n",
      "Downloading readme: 100%|██████████████████| 9.05k/9.05k [00:00<00:00, 4.33MB/s]\n",
      "Downloading data files:   0%|                             | 0/3 [00:00<?, ?it/s]\n",
      "Downloading data: 494kB [00:00, 11.2MB/s]                                       \u001b[A\n",
      "Downloading data files:  33%|███████              | 1/3 [00:00<00:01,  1.60it/s]\n",
      "Downloading data: 115kB [00:00, 6.55MB/s]                                       \u001b[A\n",
      "Downloading data files:  67%|██████████████       | 2/3 [00:01<00:00,  1.80it/s]\n",
      "Downloading data: 192kB [00:00, 9.13MB/s]                                       \u001b[A\n",
      "Downloading data files: 100%|█████████████████████| 3/3 [00:02<00:00,  1.40it/s]\n",
      "Extracting data files: 100%|████████████████████| 3/3 [00:00<00:00, 1224.97it/s]\n",
      "Generating train split: 100%|█████| 3394/3394 [00:00<00:00, 22504.07 examples/s]\n",
      "Generating validation split: 100%|█| 1009/1009 [00:00<00:00, 29579.05 examples/s\n",
      "Generating test split: 100%|██████| 1287/1287 [00:00<00:00, 27221.46 examples/s]\n"
     ]
    }
   ],
   "source": [
    "from datasets import load_dataset\n",
    "\n",
    "wnut = load_dataset(\"wnut_17\")"
   ]
  },
  {
   "cell_type": "code",
   "execution_count": 2,
   "id": "f251e9fd-7037-4128-b70c-c69dd8179ffe",
   "metadata": {},
   "outputs": [
    {
     "data": {
      "text/plain": [
       "{'id': '0',\n",
       " 'tokens': ['@paulwalk',\n",
       "  'It',\n",
       "  \"'s\",\n",
       "  'the',\n",
       "  'view',\n",
       "  'from',\n",
       "  'where',\n",
       "  'I',\n",
       "  \"'m\",\n",
       "  'living',\n",
       "  'for',\n",
       "  'two',\n",
       "  'weeks',\n",
       "  '.',\n",
       "  'Empire',\n",
       "  'State',\n",
       "  'Building',\n",
       "  '=',\n",
       "  'ESB',\n",
       "  '.',\n",
       "  'Pretty',\n",
       "  'bad',\n",
       "  'storm',\n",
       "  'here',\n",
       "  'last',\n",
       "  'evening',\n",
       "  '.'],\n",
       " 'ner_tags': [0,\n",
       "  0,\n",
       "  0,\n",
       "  0,\n",
       "  0,\n",
       "  0,\n",
       "  0,\n",
       "  0,\n",
       "  0,\n",
       "  0,\n",
       "  0,\n",
       "  0,\n",
       "  0,\n",
       "  0,\n",
       "  7,\n",
       "  8,\n",
       "  8,\n",
       "  0,\n",
       "  7,\n",
       "  0,\n",
       "  0,\n",
       "  0,\n",
       "  0,\n",
       "  0,\n",
       "  0,\n",
       "  0,\n",
       "  0]}"
      ]
     },
     "execution_count": 2,
     "metadata": {},
     "output_type": "execute_result"
    }
   ],
   "source": [
    "wnut[\"train\"][0]"
   ]
  },
  {
   "cell_type": "code",
   "execution_count": 3,
   "id": "23fe8dc7-6710-43e0-b4bf-0821c54a3056",
   "metadata": {},
   "outputs": [
    {
     "data": {
      "text/plain": [
       "['O',\n",
       " 'B-corporation',\n",
       " 'I-corporation',\n",
       " 'B-creative-work',\n",
       " 'I-creative-work',\n",
       " 'B-group',\n",
       " 'I-group',\n",
       " 'B-location',\n",
       " 'I-location',\n",
       " 'B-person',\n",
       " 'I-person',\n",
       " 'B-product',\n",
       " 'I-product']"
      ]
     },
     "execution_count": 3,
     "metadata": {},
     "output_type": "execute_result"
    }
   ],
   "source": [
    "label_list = wnut[\"train\"].features[f\"ner_tags\"].feature.names\n",
    "label_list"
   ]
  },
  {
   "cell_type": "code",
   "execution_count": 4,
   "id": "71c8748d-3587-4cdb-8799-bb11d1276649",
   "metadata": {},
   "outputs": [],
   "source": [
    "from transformers import AutoTokenizer"
   ]
  },
  {
   "cell_type": "code",
   "execution_count": 5,
   "id": "09b3bae1-5331-4f5b-8b49-4a10eba07650",
   "metadata": {},
   "outputs": [
    {
     "name": "stderr",
     "output_type": "stream",
     "text": [
      "tokenizer_config.json: 100%|█████████████████| 28.0/28.0 [00:00<00:00, 65.1kB/s]\n",
      "config.json: 100%|█████████████████████████████| 483/483 [00:00<00:00, 1.32MB/s]\n",
      "vocab.txt: 100%|█████████████████████████████| 232k/232k [00:00<00:00, 2.08MB/s]\n",
      "tokenizer.json: 100%|█████████████████████████| 466k/466k [00:00<00:00, 860kB/s]\n"
     ]
    }
   ],
   "source": [
    "tokenizer = AutoTokenizer.from_pretrained(\"distilbert-base-uncased\")"
   ]
  },
  {
   "cell_type": "code",
   "execution_count": 6,
   "id": "63d41d7a-d7b1-45ee-9ba7-f41d1b6d7981",
   "metadata": {},
   "outputs": [
    {
     "data": {
      "text/plain": [
       "['[CLS]',\n",
       " '@',\n",
       " 'paul',\n",
       " '##walk',\n",
       " 'it',\n",
       " \"'\",\n",
       " 's',\n",
       " 'the',\n",
       " 'view',\n",
       " 'from',\n",
       " 'where',\n",
       " 'i',\n",
       " \"'\",\n",
       " 'm',\n",
       " 'living',\n",
       " 'for',\n",
       " 'two',\n",
       " 'weeks',\n",
       " '.',\n",
       " 'empire',\n",
       " 'state',\n",
       " 'building',\n",
       " '=',\n",
       " 'es',\n",
       " '##b',\n",
       " '.',\n",
       " 'pretty',\n",
       " 'bad',\n",
       " 'storm',\n",
       " 'here',\n",
       " 'last',\n",
       " 'evening',\n",
       " '.',\n",
       " '[SEP]']"
      ]
     },
     "execution_count": 6,
     "metadata": {},
     "output_type": "execute_result"
    }
   ],
   "source": [
    "example = wnut[\"train\"][0]\n",
    "tokenized_input = tokenizer(example[\"tokens\"], is_split_into_words=True)\n",
    "tokens = tokenizer.convert_ids_to_tokens(tokenized_input[\"input_ids\"])\n",
    "tokens"
   ]
  },
  {
   "cell_type": "code",
   "execution_count": 8,
   "id": "4be46977-ddbd-41e2-a74b-8f48a1155efc",
   "metadata": {},
   "outputs": [],
   "source": [
    "from scipy.stats import median_abs_deviation\n",
    "import pandas as pd\n",
    "import numpy as np"
   ]
  },
  {
   "cell_type": "code",
   "execution_count": 5,
   "id": "7a9219c2-6408-4779-af88-393cdcef962f",
   "metadata": {},
   "outputs": [],
   "source": [
    "overall_data = pd.read_excel('tfcu_member.xlsx', index_col=0, sheet_name='KPI Data')\n",
    "df_ = overall_data.drop(overall_data.index[0:3])\n",
    "df = df_.drop(columns=['Unnamed: 10'])\n",
    "df_time = df[['Week','Member Retention',\n",
    "       'Employee Retention', 'Member Satisfaction NPS', 'Fraud rate',\n",
    "       'Employee satisfaction', 'Number of Employee Relations Issues',\n",
    "       '# of Member complaints', 'Member acquisition cost (CAC)',\n",
    "       'Number of Compliance Issues', 'Compliance Investigation Cycle Time',\n",
    "       'Decline rate', 'Financial impact due to attacks',\n",
    "       'Attempted vs Fraudulent Transactions', 'Final Approval rate',\n",
    "       'Fraudulent Vs Declined Transactions', 'System Uptime',\n",
    "       'Severity of attacks', 'Mean Time Between Failures (MTBF)',\n",
    "       'Cost per incident', 'Number of cybersecurity incidents reported'\n",
    "             ]].groupby(['Week']).mean()"
   ]
  },
  {
   "cell_type": "code",
   "execution_count": 11,
   "id": "efed0ef2-efa9-440e-8855-3603a6afc7f6",
   "metadata": {},
   "outputs": [],
   "source": [
    "df_anomaly = pd.DataFrame(df_time['Member Satisfaction NPS'])"
   ]
  },
  {
   "cell_type": "code",
   "execution_count": 13,
   "id": "148f2df1-ddff-4709-974e-01a4293206da",
   "metadata": {},
   "outputs": [
    {
     "data": {
      "text/plain": [
       "(0.40000000000000213, 62.63125)"
      ]
     },
     "execution_count": 13,
     "metadata": {},
     "output_type": "execute_result"
    }
   ],
   "source": [
    "mad = median_abs_deviation(df_anomaly['Member Satisfaction NPS'])\n",
    "median = np.median(df_anomaly['Member Satisfaction NPS'])\n",
    "mad, median"
   ]
  },
  {
   "cell_type": "code",
   "execution_count": 14,
   "id": "9fe8c913-f69b-4692-aa05-d42a0a3f952b",
   "metadata": {},
   "outputs": [],
   "source": [
    "def robust_z_score(x):\n",
    "    return 0.6745 * (x - median)/mad\n",
    "\n",
    "df_anomaly['z_score'] = df_anomaly['Member Satisfaction NPS'].apply(robust_z_score)"
   ]
  },
  {
   "cell_type": "code",
   "execution_count": 16,
   "id": "732cc7ec-fe57-48d1-9f9d-5dd56deb5298",
   "metadata": {},
   "outputs": [],
   "source": [
    "df_anomaly['anomaly'] = 0\n",
    "df_anomaly.loc[df_anomaly['z_score']>=3.5, 'anomaly'] = 1\n",
    "df_anomaly.loc[df_anomaly['z_score']<=-3.5, 'anomaly'] = 1"
   ]
  },
  {
   "cell_type": "code",
   "execution_count": 18,
   "id": "2ac4b37d-8c69-48d7-bd51-2f2439d4b046",
   "metadata": {},
   "outputs": [
    {
     "data": {
      "text/html": [
       "<div>\n",
       "<style scoped>\n",
       "    .dataframe tbody tr th:only-of-type {\n",
       "        vertical-align: middle;\n",
       "    }\n",
       "\n",
       "    .dataframe tbody tr th {\n",
       "        vertical-align: top;\n",
       "    }\n",
       "\n",
       "    .dataframe thead th {\n",
       "        text-align: right;\n",
       "    }\n",
       "</style>\n",
       "<table border=\"1\" class=\"dataframe\">\n",
       "  <thead>\n",
       "    <tr style=\"text-align: right;\">\n",
       "      <th></th>\n",
       "      <th>Member Satisfaction NPS</th>\n",
       "      <th>z_score</th>\n",
       "      <th>anomaly</th>\n",
       "    </tr>\n",
       "    <tr>\n",
       "      <th>Week</th>\n",
       "      <th></th>\n",
       "      <th></th>\n",
       "      <th></th>\n",
       "    </tr>\n",
       "  </thead>\n",
       "  <tbody>\n",
       "    <tr>\n",
       "      <th>WK 20</th>\n",
       "      <td>59.99</td>\n",
       "      <td>-4.453808</td>\n",
       "      <td>1</td>\n",
       "    </tr>\n",
       "  </tbody>\n",
       "</table>\n",
       "</div>"
      ],
      "text/plain": [
       "       Member Satisfaction NPS   z_score  anomaly\n",
       "Week                                             \n",
       "WK 20                    59.99 -4.453808        1"
      ]
     },
     "execution_count": 18,
     "metadata": {},
     "output_type": "execute_result"
    }
   ],
   "source": [
    "df_anomaly[df_anomaly['anomaly']==1]"
   ]
  },
  {
   "cell_type": "code",
   "execution_count": null,
   "id": "305587a2-9725-4e7c-a982-0eb4387fae3f",
   "metadata": {},
   "outputs": [],
   "source": []
  }
 ],
 "metadata": {
  "kernelspec": {
   "display_name": "Python 3 (ipykernel)",
   "language": "python",
   "name": "python3"
  },
  "language_info": {
   "codemirror_mode": {
    "name": "ipython",
    "version": 3
   },
   "file_extension": ".py",
   "mimetype": "text/x-python",
   "name": "python",
   "nbconvert_exporter": "python",
   "pygments_lexer": "ipython3",
   "version": "3.11.5"
  }
 },
 "nbformat": 4,
 "nbformat_minor": 5
}
