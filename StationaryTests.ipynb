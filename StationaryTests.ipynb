{
 "cells": [
  {
   "cell_type": "code",
   "execution_count": 4,
   "id": "a02e72da-7a38-40a3-93d9-3ee2637f2ee3",
   "metadata": {},
   "outputs": [],
   "source": [
    "import matplotlib.pyplot as plt\n",
    "import numpy as np\n",
    "from statsmodels.tsa.stattools import adfuller\n",
    "from statsmodels.tsa.stattools import kpss\n",
    "import pandas as pd"
   ]
  },
  {
   "cell_type": "code",
   "execution_count": 5,
   "id": "9229b592-21ee-4ff7-a6c8-d002bf97a631",
   "metadata": {},
   "outputs": [],
   "source": [
    "def perform_adf_test(series):\n",
    "    #if p> 0.05 - non stationary\n",
    "    # if p< 0.05 - stationary\n",
    "    result = adfuller(series)\n",
    "    print('ADF Statistic: %f' % result[0])\n",
    "    print('p-value: %f' % result[1])\n",
    "    return result"
   ]
  },
  {
   "cell_type": "code",
   "execution_count": 6,
   "id": "af3e6f6b-16a2-4812-bf7a-579ed5fd2a54",
   "metadata": {},
   "outputs": [],
   "source": [
    "def perform_kpss_test(series):\n",
    "    # if p< 0.05 - non stationary\n",
    "    # if p > 0.05 - stationary\n",
    "    result = kpss(series)\n",
    "    print('KPSS Statistic: %f' % result[0])\n",
    "    print('p-value: %f' % result[1])\n",
    "    return result"
   ]
  },
  {
   "cell_type": "code",
   "execution_count": 7,
   "id": "69330a6e-e7f2-4212-b955-ef30ddb9d151",
   "metadata": {},
   "outputs": [],
   "source": [
    "overall_data = pd.read_excel('tfcu_member.xlsx', index_col=0, sheet_name='KPI Data')\n",
    "df_ = overall_data.drop(overall_data.index[0:3])\n",
    "df = df_.drop(columns=['Unnamed: 10'])\n",
    "df_time = df[['Week','Member Retention',\n",
    "       'Employee Retention', 'Member Satisfaction NPS', 'Fraud rate',\n",
    "       'Employee satisfaction', 'Number of Employee Relations Issues',\n",
    "       '# of Member complaints', 'Member acquisition cost (CAC)',\n",
    "       'Number of Compliance Issues', 'Compliance Investigation Cycle Time',\n",
    "       'Decline rate', 'Financial impact due to attacks',\n",
    "       'Attempted vs Fraudulent Transactions', 'Final Approval rate',\n",
    "       'Fraudulent Vs Declined Transactions', 'System Uptime',\n",
    "       'Severity of attacks', 'Mean Time Between Failures (MTBF)',\n",
    "       'Cost per incident', 'Number of cybersecurity incidents reported'\n",
    "             ]].groupby(['Week']).mean()"
   ]
  },
  {
   "cell_type": "code",
   "execution_count": 8,
   "id": "8f83ff77-ca9b-4646-9daf-4fffade035ff",
   "metadata": {},
   "outputs": [
    {
     "name": "stdout",
     "output_type": "stream",
     "text": [
      "ADF Statistic: -5.648309\n",
      "p-value: 0.000001\n"
     ]
    },
    {
     "data": {
      "text/plain": [
       "(-5.648309441478632,\n",
       " 9.994654156096362e-07,\n",
       " 0,\n",
       " 51,\n",
       " {'1%': -3.5656240522121956,\n",
       "  '5%': -2.920142229157715,\n",
       "  '10%': -2.598014675124952},\n",
       " 108.36977884679719)"
      ]
     },
     "execution_count": 8,
     "metadata": {},
     "output_type": "execute_result"
    }
   ],
   "source": [
    "perform_adf_test(df_time['Member Retention'])"
   ]
  },
  {
   "cell_type": "code",
   "execution_count": 9,
   "id": "3ed561b0-c219-4c04-bcda-2d7670d925c5",
   "metadata": {},
   "outputs": [
    {
     "name": "stdout",
     "output_type": "stream",
     "text": [
      "KPSS Statistic: 0.094785\n",
      "p-value: 0.100000\n"
     ]
    },
    {
     "name": "stderr",
     "output_type": "stream",
     "text": [
      "/var/folders/yf/k4nhvtd561v_2qts8q925s640000gn/T/ipykernel_55853/1205331268.py:4: InterpolationWarning: The test statistic is outside of the range of p-values available in the\n",
      "look-up table. The actual p-value is greater than the p-value returned.\n",
      "\n",
      "  result = kpss(series)\n"
     ]
    },
    {
     "data": {
      "text/plain": [
       "(0.09478534585679835,\n",
       " 0.1,\n",
       " 2,\n",
       " {'10%': 0.347, '5%': 0.463, '2.5%': 0.574, '1%': 0.739})"
      ]
     },
     "execution_count": 9,
     "metadata": {},
     "output_type": "execute_result"
    }
   ],
   "source": [
    "perform_kpss_test(df_time['Member Retention'])"
   ]
  },
  {
   "cell_type": "code",
   "execution_count": 11,
   "id": "f1424ed4-0a5f-4799-bb42-63cbe4548cb1",
   "metadata": {},
   "outputs": [
    {
     "name": "stderr",
     "output_type": "stream",
     "text": [
      "/Users/aswin/miniconda3/envs/mlenv/lib/python3.11/site-packages/darts/utils/statistics.py:467: InterpolationWarning: The test statistic is outside of the range of p-values available in the\n",
      "look-up table. The actual p-value is greater than the p-value returned.\n",
      "\n",
      "  return kpss(ts.values(copy=False), regression, nlags)\n"
     ]
    },
    {
     "data": {
      "text/plain": [
       "True"
      ]
     },
     "execution_count": 11,
     "metadata": {},
     "output_type": "execute_result"
    }
   ],
   "source": [
    "from darts.utils.statistics import stationarity_tests\n",
    "from darts.timeseries import TimeSeries\n",
    "ds_er = TimeSeries.from_series(df_time['Employee Retention'].reset_index().drop('Week', axis=1))\n",
    "stationarity_tests(ds_er, p_value_threshold_adfuller=0.05, p_value_threshold_kpss=0.05)"
   ]
  },
  {
   "cell_type": "code",
   "execution_count": null,
   "id": "b9232216-6edd-4272-a09e-c0f34c1a1376",
   "metadata": {},
   "outputs": [],
   "source": []
  }
 ],
 "metadata": {
  "kernelspec": {
   "display_name": "Python 3 (ipykernel)",
   "language": "python",
   "name": "python3"
  },
  "language_info": {
   "codemirror_mode": {
    "name": "ipython",
    "version": 3
   },
   "file_extension": ".py",
   "mimetype": "text/x-python",
   "name": "python",
   "nbconvert_exporter": "python",
   "pygments_lexer": "ipython3",
   "version": "3.11.5"
  }
 },
 "nbformat": 4,
 "nbformat_minor": 5
}
