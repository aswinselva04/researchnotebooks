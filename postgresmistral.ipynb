{
 "cells": [
  {
   "cell_type": "code",
   "execution_count": 2,
   "id": "b1999d77-81f1-4611-b4c0-1907b2fbc3dc",
   "metadata": {},
   "outputs": [
    {
     "name": "stdout",
     "output_type": "stream",
     "text": [
      "Collecting psycopg2-binary\n",
      "  Downloading psycopg2_binary-2.9.9-cp39-cp39-macosx_11_0_arm64.whl.metadata (4.4 kB)\n",
      "Downloading psycopg2_binary-2.9.9-cp39-cp39-macosx_11_0_arm64.whl (2.6 MB)\n",
      "\u001b[2K   \u001b[90m━━━━━━━━━━━━━━━━━━━━━━━━━━━━━━━━━━━━━━━━\u001b[0m \u001b[32m2.6/2.6 MB\u001b[0m \u001b[31m4.7 MB/s\u001b[0m eta \u001b[36m0:00:00\u001b[0m00:01\u001b[0m00:01\u001b[0m\n",
      "\u001b[?25hInstalling collected packages: psycopg2-binary\n",
      "Successfully installed psycopg2-binary-2.9.9\n"
     ]
    }
   ],
   "source": []
  },
  {
   "cell_type": "code",
   "execution_count": 3,
   "id": "cb8d38f4-661a-4fff-a6f4-a53b858aa477",
   "metadata": {},
   "outputs": [],
   "source": [
    "from sqlalchemy import create_engine\n",
    "\n",
    "engine = create_engine(\"postgresql+psycopg2://postgres:@localhost:5432/centralizeddb\")"
   ]
  },
  {
   "cell_type": "code",
   "execution_count": 5,
   "id": "d6b8e6bd-b5cb-4ac6-ac61-15e92d57a720",
   "metadata": {},
   "outputs": [],
   "source": [
    "from sqlalchemy import text"
   ]
  },
  {
   "cell_type": "code",
   "execution_count": 6,
   "id": "8001e0e7-08ab-4941-a678-02b60c14d656",
   "metadata": {},
   "outputs": [
    {
     "name": "stdout",
     "output_type": "stream",
     "text": [
      "[(2, 'tfcu-0002', 'Bri James', 'Bri', 'James', '631-385 1161', 'bri.james@tfcu.com', 'FSR', 'Patchogue', 'Banks Thelma', 'Banks', 'Thelma', 'WK 01', datetime.date(2022, 10, 16), 94, 86, 81, 0.69, 3, 5, 17, 128, 0, 31, 2, 7176, 9, 79, 79, 98, 10, 37, 8560, 6, 'VP Customer Experience 1'), (3, 'tfcu-0003', 'Alaska Robert', 'Alaska', 'Robert', '631-385 1994', 'alaska.robert@tfcu.com', 'FSR', 'Amityville', 'Liam Wilfred', 'Liam', 'Wilfred', 'WK 01', datetime.date(2022, 10, 16), 86, 63, 72, 0.47, 1, 3, 16, 78, 0, 12, 10, 19038, 6, 73, 73, 96, 2, 12, 7274, 2, 'VP Customer Experience 1'), (4, 'tfcu-0004', 'Ariel Joseph', 'Ariel', 'Joseph', '631-385 8476', 'ariel.joseph@tfcu.com', 'FSR', 'Amityville', 'Liam Wilfred', 'Liam', 'Wilfred', 'WK 01', datetime.date(2022, 10, 16), 70, 83, 69, 0.94, 3, 2, 6, 46, 3, 11, 1, 16007, 10, 85, 85, 95, 9, 95, 7221, 6, 'VP Customer Experience 1'), (5, 'tfcu-0005', 'Bridgette George', 'Bridgette', 'George', '631-385 8743', 'bridgette.george@tfcu.com', 'FSR', 'Riverhead', 'Wylder Edith', 'Wylder', 'Edith', 'WK 01', datetime.date(2022, 10, 16), 90, 63, 56, 0.83, 8, 1, 16, 111, 0, 16, 1, 9574, 10, 77, 77, 94, 4, 13, 5420, 5, 'VP Customer Experience 3'), (6, 'tfcu-0006', 'Alexa Charles', 'Alexa', 'Charles', '631-385 8744', 'alexa.charles@tfcu.com', 'FSR', 'Amityville', 'Liam Wilfred', 'Liam', 'Wilfred', 'WK 01', datetime.date(2022, 10, 16), 97, 68, 85, 0.17, 5, 5, 12, 28, 5, 35, 6, 13299, 7, 78, 78, 97, 5, 52, 7589, 4, 'VP Customer Experience 1'), (7, 'tfcu-0007', 'Ashley Edward', 'Ashley', 'Edward', '631-385 8751', 'ashley.edward@tfcu.com', 'FSR', 'Amityville', 'Liam Wilfred', 'Liam', 'Wilfred', 'WK 01', datetime.date(2022, 10, 16), 93, 51, 84, 0.37, 5, 4, 12, 56, 5, 15, 15, 22274, 9, 85, 85, 97, 8, 13, 7684, 5, 'VP Customer Experience 1'), (8, 'tfcu-0008', 'Bristol Frank', 'Bristol', 'Frank', '631-385 8766', 'bristol.frank@tfcu.com', 'FSR', 'Commack', 'Benjamin Forrest', 'Benjamin', 'Forrest', 'WK 01', datetime.date(2022, 10, 16), 99, 81, 46, 0.1, 4, 4, 5, 41, 2, 7, 15, 20920, 9, 80, 80, 94, 5, 47, 8605, 3, 'VP Customer Experience 3'), (9, 'tfcu-0009', 'Alice Thomas', 'Alice', 'Thomas', '631-385 8787', 'alice.thomas@tfcu.com', 'FSR', 'Commack', 'Benjamin Forrest', 'Benjamin', 'Forrest', 'WK 01', datetime.date(2022, 10, 16), 92, 83, 55, 0.52, 4, 2, 10, 60, 4, 12, 11, 15749, 5, 86, 86, 97, 1, 39, 8839, 3, 'VP Customer Experience 3'), (10, 'tfcu-0010', 'Audrey Walter', 'Audrey', 'Walter', '631-385 8794', 'audrey.walter@tfcu.com', 'FSR', 'Amityville', 'Liam Wilfred', 'Liam', 'Wilfred', 'WK 01', datetime.date(2022, 10, 16), 87, 60, 43, 0.88, 2, 5, 9, 27, 4, 6, 4, 24608, 9, 90, 90, 93, 2, 32, 6625, 3, 'VP Customer Experience 1'), (11, 'tfcu-0011', 'Britney Harold', 'Britney', 'Harold', '631-385 8851', 'britney.harold@tfcu.com', 'FSR', 'Holbrook', 'Eliam Nick', 'Eliam', 'Nick', 'WK 01', datetime.date(2022, 10, 16), 75, 57, 47, 0.85, 5, 4, 11, 41, 4, 23, 9, 17454, 11, 70, 70, 99, 5, 58, 7511, 3, 'VP Customer Experience 4')]\n"
     ]
    }
   ],
   "source": [
    "with engine.connect() as connection:\n",
    "    results = connection.execute(text(\"select * from tfcu_wdates_105 Limit 10\")\n",
    "                                ).fetchall()\n",
    "    print(results)"
   ]
  },
  {
   "cell_type": "code",
   "execution_count": 5,
   "id": "640c2ced-b4de-4cfb-98f4-c2981fef93c2",
   "metadata": {},
   "outputs": [
    {
     "name": "stderr",
     "output_type": "stream",
     "text": [
      "/var/folders/h3/n9s1wd956zs2c_l90d4zk39w0000gn/T/ipykernel_65113/2519803293.py:7: DeprecationWarning: Call to deprecated class method from_defaults. (ServiceContext is deprecated, please use `llama_index.settings.Settings` instead.) -- Deprecated since version 0.10.0.\n",
      "  service_context = ServiceContext.from_defaults(llm=llm,  embed_model=\"local\")\n"
     ]
    },
    {
     "data": {
      "text/plain": [
       "' The average fraud rate is approximately 0.49.'"
      ]
     },
     "execution_count": 5,
     "metadata": {},
     "output_type": "execute_result"
    }
   ],
   "source": [
    "from llama_index.core.indices.struct_store.sql_query import NLSQLTableQueryEngine\n",
    "from llama_index.llms.ollama import Ollama\n",
    "from llama_index.core import VectorStoreIndex, ServiceContext, SQLDatabase\n",
    "from llama_index.core import SQLDatabase\n",
    "sql_database = SQLDatabase(engine, include_tables=[\"tfcu_wdates_105\"])\n",
    "llm = Ollama(model=\"mistral\")\n",
    "service_context = ServiceContext.from_defaults(llm=llm,  embed_model=\"local\")\n",
    "query_engine = NLSQLTableQueryEngine(\n",
    "    sql_database=sql_database,\n",
    "    tables=[\"tfcu_wdates_105\"],\n",
    "    service_context = service_context,\n",
    ")\n",
    "query_str = \"what is the average fraud rate, round the result to two decimals\"\n",
    "response = query_engine.query(query_str) \n",
    "response.metadata['sql_query']\n",
    "response.response\n",
    "# response_stream.print_response_stream()"
   ]
  },
  {
   "cell_type": "code",
   "execution_count": 24,
   "id": "de2ba047-1b47-4b84-b08c-f53d7c3f7e27",
   "metadata": {},
   "outputs": [
    {
     "data": {
      "text/plain": [
       "Response(response=' Based on the SQL query result, the average fraud rate is approximately 0.4975 or 49.75%.', source_nodes=[NodeWithScore(node=TextNode(id_='eada840d-ed08-4713-b553-1e168f0aa3a6', embedding=None, metadata={}, excluded_embed_metadata_keys=[], excluded_llm_metadata_keys=[], relationships={}, text='[(0.497537499999998,)]', start_char_idx=None, end_char_idx=None, text_template='{metadata_str}\\n\\n{content}', metadata_template='{key}: {value}', metadata_seperator='\\n'), score=None)], metadata={'eada840d-ed08-4713-b553-1e168f0aa3a6': {}, 'sql_query': 'SELECT AVG(fraud_rate) FROM tfcu_wdates_105;', 'result': [(0.497537499999998,)], 'col_keys': ['avg']})"
      ]
     },
     "execution_count": 24,
     "metadata": {},
     "output_type": "execute_result"
    }
   ],
   "source": [
    "response"
   ]
  },
  {
   "cell_type": "code",
   "execution_count": 22,
   "id": "472981a0-d5c2-4b0b-8322-398dddc65a01",
   "metadata": {},
   "outputs": [
    {
     "data": {
      "text/plain": [
       "Response(response=\" I'm sorry for the confusion earlier. The SQL query provided seems to be incomplete and contains syntax errors. Based on your initial question, here is a suggested SQL query to get the average fraud rate grouped by week:\\n\\n```sql\\nSELECT DATE_FORMAT(transaction_date, '%W') AS week, AVG(fraud_rate) as avg_fraud_rate\\nFROM transactions_table\\nGROUP BY week;\\n```\\n\\nThis query assumes that you have a table named `transactions_table` with columns `transaction_date` and `fraud_rate`. Make sure to replace the table name and column names accordingly. Also, ensure that your SQL dialect supports the `DATE_FORMAT()` function or an equivalent method for extracting week from a date value.\\n\\nThe query will return the average fraud rate for each week in descending order by default (as most SQL databases sort results in this order). If you want a specific order, use `ORDER BY week ASC/DESC`.\\n\\nLet me know if you have any questions or need further clarification!\", source_nodes=[NodeWithScore(node=TextNode(id_='6d8e8595-24df-4e8b-9f67-eb06ccbfe59e', embedding=None, metadata={}, excluded_embed_metadata_keys=[], excluded_llm_metadata_keys=[], relationships={}, text=\"Error: Statement 'SELECT week, AVG(fraud_rate) as avg\\\\\\\\_fraud\\\\\\\\_rate\\\\nFROM tfcu_wdates_105\\\\nGROUP BY week;' is invalid SQL.\", start_char_idx=None, end_char_idx=None, text_template='{metadata_str}\\n\\n{content}', metadata_template='{key}: {value}', metadata_seperator='\\n'), score=None)], metadata={'6d8e8595-24df-4e8b-9f67-eb06ccbfe59e': {}, 'sql_query': 'SELECT week, AVG(fraud_rate) as avg\\\\_fraud\\\\_rate\\nFROM tfcu_wdates_105\\nGROUP BY week;'})"
      ]
     },
     "execution_count": 22,
     "metadata": {},
     "output_type": "execute_result"
    }
   ],
   "source": [
    "response"
   ]
  },
  {
   "cell_type": "code",
   "execution_count": 25,
   "id": "48bd8e2f-fb15-4471-9640-a1b8fe4648f9",
   "metadata": {},
   "outputs": [
    {
     "data": {
      "text/plain": [
       "'SELECT week, AVG(fraud_rate) as avg_fraud_rate\\nFROM tfcu_wdates_105\\nGROUP BY week;'"
      ]
     },
     "execution_count": 25,
     "metadata": {},
     "output_type": "execute_result"
    }
   ],
   "source": [
    "'SELECT week, AVG(fraud_rate) as avg\\\\_fraud\\\\_rate\\nFROM tfcu_wdates_105\\nGROUP BY week;'.replace('\\\\', '')"
   ]
  },
  {
   "cell_type": "code",
   "execution_count": 13,
   "id": "5f69d6da-125f-43a8-823c-ca55e142b9c7",
   "metadata": {},
   "outputs": [
    {
     "data": {
      "text/plain": [
       "'SELECT DISTINCT emp_id FROM tfcu_wdates_105;'"
      ]
     },
     "execution_count": 13,
     "metadata": {},
     "output_type": "execute_result"
    }
   ],
   "source": [
    "response.metadata['sql_query'].replace('\\\\', '')"
   ]
  },
  {
   "cell_type": "code",
   "execution_count": 26,
   "id": "4faf3f69-1c26-4f50-918e-23822f82f5df",
   "metadata": {},
   "outputs": [
    {
     "name": "stdout",
     "output_type": "stream",
     "text": [
      "[('WK 52', 0.48747499999999944), ('WK 46', 0.5122999999999993), ('WK 25', 0.4788499999999999), ('WK 51', 0.5001999999999999), ('WK 31', 0.5129499999999999), ('WK 17', 0.4924750000000005), ('WK 09', 0.4889250000000003), ('WK 47', 0.49875000000000036), ('WK 21', 0.5078000000000003), ('WK 49', 0.49207499999999954), ('WK 39', 0.47132500000000016), ('WK 44', 0.5008250000000001), ('WK 23', 0.49227500000000035), ('WK 30', 0.5023000000000001), ('WK 15', 0.48620000000000047), ('WK 45', 0.4880249999999996), ('WK 50', 0.5070250000000001), ('WK 29', 0.4862999999999999), ('WK 11', 0.4816), ('WK 14', 0.4976249999999998), ('WK 03', 0.5044499999999998), ('WK 01', 0.47420000000000023), ('WK 48', 0.5013249999999992), ('WK 37', 0.5076499999999999), ('WK 32', 0.496125), ('WK 19', 0.49785000000000035), ('WK 24', 0.48272499999999985), ('WK 10', 0.5113249999999999), ('WK 33', 0.5034249999999997), ('WK 05', 0.5076), ('WK 38', 0.49942499999999995), ('WK 27', 0.47984999999999983), ('WK 18', 0.509475), ('WK 02', 0.47325000000000034), ('WK 28', 0.49562499999999976), ('WK 20', 0.5152749999999999), ('WK 04', 0.46450000000000025), ('WK 26', 0.5040999999999997), ('WK 08', 0.5148250000000001), ('WK 36', 0.4878749999999997), ('WK 42', 0.5093249999999998), ('WK 22', 0.48717499999999975), ('WK 43', 0.5111750000000003), ('WK 13', 0.5149750000000001), ('WK 06', 0.5136249999999997), ('WK 07', 0.5139749999999996), ('WK 34', 0.4930750000000001), ('WK 12', 0.5058500000000001), ('WK 41', 0.4984750000000001), ('WK 16', 0.5076750000000001), ('WK 40', 0.5103500000000001), ('WK 35', 0.49010000000000004)]\n"
     ]
    }
   ],
   "source": [
    "with engine.connect() as connection:\n",
    "    results = connection.execute(text('SELECT week, AVG(fraud_rate) as avg_fraud_rate\\nFROM tfcu_wdates_105\\nGROUP BY week;')\n",
    "                                ).fetchall()\n",
    "    print(results)"
   ]
  },
  {
   "cell_type": "code",
   "execution_count": null,
   "id": "c0b4202c-6376-4437-b473-faa784e03d24",
   "metadata": {},
   "outputs": [],
   "source": []
  }
 ],
 "metadata": {
  "kernelspec": {
   "display_name": "Python 3 (ipykernel)",
   "language": "python",
   "name": "python3"
  },
  "language_info": {
   "codemirror_mode": {
    "name": "ipython",
    "version": 3
   },
   "file_extension": ".py",
   "mimetype": "text/x-python",
   "name": "python",
   "nbconvert_exporter": "python",
   "pygments_lexer": "ipython3",
   "version": "3.9.18"
  }
 },
 "nbformat": 4,
 "nbformat_minor": 5
}
