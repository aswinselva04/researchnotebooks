{
 "cells": [
  {
   "cell_type": "code",
   "execution_count": 1,
   "id": "3b925d6e-161c-419c-b437-dc6b492eb641",
   "metadata": {},
   "outputs": [],
   "source": [
    "import numpy as np\n",
    "from scipy import stats"
   ]
  },
  {
   "cell_type": "code",
   "execution_count": 4,
   "id": "f54febeb-d766-43ee-81d5-dc9ac136ed81",
   "metadata": {},
   "outputs": [],
   "source": [
    "class BookSCM:\n",
    "    def __init__(self, random_seed=None):\n",
    "        self.random_seed = random_seed\n",
    "        self.u_0 = stats.uniform()\n",
    "        self.u_1 = stats.norm()\n",
    "    def sample(self, sample_size=100):\n",
    "        \"\"\"Samples from the SCM\"\"\"\n",
    "        if self.random_seed:\n",
    "            np.random.seed(self.random_seed)\n",
    "        u_0 = self.u_0.rvs(sample_size)\n",
    "        u_1 = self.u_1.rvs(sample_size)\n",
    "        a = u_0 > .61\n",
    "        b = (a + .5 * u_1) > .2\n",
    "        return a, b"
   ]
  },
  {
   "cell_type": "code",
   "execution_count": 5,
   "id": "4318dd7e-2ce3-4c06-a41b-c9b109dafab3",
   "metadata": {},
   "outputs": [],
   "source": [
    "scm = BookSCM(random_seed=45)"
   ]
  },
  {
   "cell_type": "code",
   "execution_count": 6,
   "id": "c83916c6-5501-4366-ab17-cda4d87e5808",
   "metadata": {},
   "outputs": [],
   "source": [
    "buy_book_a, buy_book_a = scm.sample(100)"
   ]
  },
  {
   "cell_type": "code",
   "execution_count": 9,
   "id": "bbf56540-8522-4a66-b951-19e902dc7334",
   "metadata": {},
   "outputs": [
    {
     "data": {
      "text/plain": [
       "((100,), (100,))"
      ]
     },
     "execution_count": 9,
     "metadata": {},
     "output_type": "execute_result"
    }
   ],
   "source": [
    "buy_book_a.shape, buy_book_b.shape"
   ]
  },
  {
   "cell_type": "code",
   "execution_count": 12,
   "id": "fec3f0f6-c31b-4d80-8952-97cfb3c0f5aa",
   "metadata": {},
   "outputs": [
    {
     "name": "stdout",
     "output_type": "stream",
     "text": [
      "Mean of B before any intervention: -0.620\n",
      "Variance of B before any intervention: 22.667\n",
      "Correlation between A and B:\n",
      "r = 0.978; p =0.000\n",
      "\n"
     ]
    }
   ],
   "source": [
    "SAMPLE_SIZE = 100\n",
    "np.random.seed(45)\n",
    "u_0 = np.random.randn(SAMPLE_SIZE)\n",
    "u_1 = np.random.randn(SAMPLE_SIZE)\n",
    "a = u_0\n",
    "b = 5 * a + u_1\n",
    "r, p = stats.pearsonr(a, b)\n",
    "print(f\"Mean of B before any intervention: {b.mean():.3f}\")\n",
    "print(f\"Variance of B before any intervention: {b.var():.3f}\")\n",
    "print(f'Correlation between A and B:\\nr = {r:.3f}; p ={p:.3f}\\n')"
   ]
  },
  {
   "cell_type": "code",
   "execution_count": 15,
   "id": "18dddec3-8657-4875-8432-8de0057bef2c",
   "metadata": {},
   "outputs": [
    {
     "data": {
      "text/plain": [
       "array([1.5, 1.5, 1.5, 1.5, 1.5, 1.5, 1.5, 1.5, 1.5, 1.5, 1.5, 1.5, 1.5,\n",
       "       1.5, 1.5, 1.5, 1.5, 1.5, 1.5, 1.5, 1.5, 1.5, 1.5, 1.5, 1.5, 1.5,\n",
       "       1.5, 1.5, 1.5, 1.5, 1.5, 1.5, 1.5, 1.5, 1.5, 1.5, 1.5, 1.5, 1.5,\n",
       "       1.5, 1.5, 1.5, 1.5, 1.5, 1.5, 1.5, 1.5, 1.5, 1.5, 1.5, 1.5, 1.5,\n",
       "       1.5, 1.5, 1.5, 1.5, 1.5, 1.5, 1.5, 1.5, 1.5, 1.5, 1.5, 1.5, 1.5,\n",
       "       1.5, 1.5, 1.5, 1.5, 1.5, 1.5, 1.5, 1.5, 1.5, 1.5, 1.5, 1.5, 1.5,\n",
       "       1.5, 1.5, 1.5, 1.5, 1.5, 1.5, 1.5, 1.5, 1.5, 1.5, 1.5, 1.5, 1.5,\n",
       "       1.5, 1.5, 1.5, 1.5, 1.5, 1.5, 1.5, 1.5, 1.5])"
      ]
     },
     "execution_count": 15,
     "metadata": {},
     "output_type": "execute_result"
    }
   ],
   "source": [
    "np.array([1.5] * SAMPLE_SIZE)"
   ]
  },
  {
   "cell_type": "code",
   "execution_count": 14,
   "id": "288bf508-26d0-4970-b183-018886d5e6c9",
   "metadata": {},
   "outputs": [
    {
     "name": "stdout",
     "output_type": "stream",
     "text": [
      "Mean of B after the intervention on A: 7.575\n",
      "Variance of B after the intervention on A:1.003\n",
      "\n"
     ]
    }
   ],
   "source": [
    "a = np.array([1.5] * SAMPLE_SIZE)\n",
    "b = 5 * a + u_1\n",
    "print(f'Mean of B after the intervention on A: {b.mean():.3f}')\n",
    "print(f'Variance of B after the intervention on A:{b.var():.3f}\\n')"
   ]
  },
  {
   "cell_type": "code",
   "execution_count": 1,
   "id": "f42d3638-eeb8-420a-84a3-5e4832a295c5",
   "metadata": {},
   "outputs": [],
   "source": [
    "# maximal information coefficient\n",
    "# Hilbert-Schmidt independence criterion (HSIC)"
   ]
  },
  {
   "cell_type": "code",
   "execution_count": null,
   "id": "d5e4b782-9968-4224-8734-09c38536c96a",
   "metadata": {},
   "outputs": [],
   "source": []
  }
 ],
 "metadata": {
  "kernelspec": {
   "display_name": "Python 3 (ipykernel)",
   "language": "python",
   "name": "python3"
  },
  "language_info": {
   "codemirror_mode": {
    "name": "ipython",
    "version": 3
   },
   "file_extension": ".py",
   "mimetype": "text/x-python",
   "name": "python",
   "nbconvert_exporter": "python",
   "pygments_lexer": "ipython3",
   "version": "3.11.5"
  }
 },
 "nbformat": 4,
 "nbformat_minor": 5
}
