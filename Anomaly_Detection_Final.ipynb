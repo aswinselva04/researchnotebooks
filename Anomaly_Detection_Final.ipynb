{
 "cells": [
  {
   "cell_type": "code",
   "execution_count": 196,
   "id": "7127152c-3915-4363-bbe9-f4d1b7c90c8c",
   "metadata": {},
   "outputs": [],
   "source": [
    "from darts.utils.statistics import stationarity_tests, check_seasonality\n",
    "from darts.timeseries import TimeSeries\n",
    "from statsmodels.tsa.seasonal import STL\n",
    "import prophet as Prophet\n",
    "import pandas as pd\n",
    "import numpy as np\n",
    "from scipy.stats import median_abs_deviation"
   ]
  },
  {
   "cell_type": "code",
   "execution_count": 197,
   "id": "730462e8-05c1-4e22-8c3c-a2c365c10d8e",
   "metadata": {},
   "outputs": [],
   "source": [
    "class TimeSeriesStats:\n",
    "\n",
    "    def __init__(self, time_series):\n",
    "        \"\"\"Initialize the time series\n",
    "\n",
    "        Args:\n",
    "            time_series (pandas Series): valid time series sequence without dt or ds\n",
    "        \"\"\"\n",
    "        self.ts = TimeSeries.from_series(time_series)\n",
    "\n",
    "    def check_stationarity(self):\n",
    "        \"\"\"Checks if the time series data is stationary or not\n",
    "\n",
    "        Returns:\n",
    "            stationarity (bool): True - stationary, False - non-stationary\n",
    "        \"\"\"\n",
    "        stationary = stationarity_tests(self.ts, p_value_threshold_adfuller=0.05, p_value_threshold_kpss=0.05)\n",
    "        return stationary\n",
    "\n",
    "    def check_seasonality_period(self):\n",
    "        \"\"\"Checks if the non-stationary time series data has seasonality or not\n",
    "\n",
    "        Returns:\n",
    "    \n",
    "            seasonality (bool): True - Seasonal, False - not seasonal\n",
    "            seasonal_period (int): If True, value is the period of seasonality\n",
    "            \n",
    "        \"\"\"\n",
    "        seasonality, seasoanal_period = check_seasonality(self.ts)\n",
    "        return seasonality, seasoanal_period\n",
    "\n",
    "    def get_residuals(self, ts, seasonality_results):\n",
    "        \"\"\"Decomposes Residuals from a time series data after performing STL decomposition\n",
    "\n",
    "        Args:\n",
    "            ts (pandas series): Time series to decompose\n",
    "            seasonality_results (tuple): A tuple of seasonality(Boolean) and period of seasonality(int)\n",
    "        returns:\n",
    "            resid (pandas series): residuals after decomposition\n",
    "        \"\"\"\n",
    "        seasonality, period = seasonality_results\n",
    "        if seasonality:\n",
    "            stl = STL(ts[ts.columns[1]], period = period)\n",
    "        else:\n",
    "            stl = STL(ts.columns[1], period = None)\n",
    "        result = stl.fit()\n",
    "        return result.resid\n",
    "        \n",
    "        \n"
   ]
  },
  {
   "cell_type": "code",
   "execution_count": 198,
   "id": "c8f20610-da1b-476b-abfb-d6bfaa0e3b2f",
   "metadata": {},
   "outputs": [],
   "source": [
    "from abc import ABC, abstractmethod \n",
    "\n",
    "class AnomalyDetector(ABC):\n",
    "\n",
    "    @abstractmethod\n",
    "    def fit():\n",
    "        pass\n",
    "\n",
    "    @abstractmethod\n",
    "    def predict():\n",
    "        pass\n",
    "        \n",
    "    \n"
   ]
  },
  {
   "cell_type": "code",
   "execution_count": 223,
   "id": "725eb094-2585-46dc-a56b-7ca017da3e46",
   "metadata": {},
   "outputs": [],
   "source": [
    "class ProphetForAnomalyDetector(AnomalyDetector):\n",
    "\n",
    "    def __init__(self, time_series):\n",
    "        \"\"\"Initialize the time series\n",
    "\n",
    "        Args:\n",
    "            time_series (pandas Series): valid time series sequence without dt or ds\n",
    "        \"\"\"\n",
    "        self.ts = time_series.copy()\n",
    "        if len(self.ts.columns) != 2:\n",
    "            raise ValueError(\"Need two columns, in the dataframe, one with date and another with kpi\")\n",
    "        self.kpi_name = self.ts.columns[1]\n",
    "        self.date_name = self.ts.columns[0]\n",
    "        self.model = None\n",
    "\n",
    "    def transform(self):\n",
    "        \"\"\"Renames columns to ds & y, and transforms the date_time field to pandas date series columns as requested by prophet\n",
    "\n",
    "        Args:\n",
    "            None\n",
    "        \"\"\"\n",
    "        if 'ds' not in self.ts.columns:\n",
    "            self.ts = self.ts.rename(columns={self.date_name: \"ds\"})\n",
    "        if 'y' not in self.ts.columns:\n",
    "            self.ts = self.ts.rename(columns = {self.kpi_name: \"y\"})\n",
    "        if not pd.api.types.is_datetime64_any_dtype(self.ts['ds']):\n",
    "            self.ts['ds'] =  pd.to_datetime(self.ts['ds'], format='%Y-%m-%d', errors='raise')\n",
    "        \n",
    "    def fit(self, interval_width = 0.99, changepoint_range = 1):\n",
    "        \"\"\"Fits the model to the time series data\n",
    "\n",
    "        Args:\n",
    "            interval_width (float): a float number between 0 to 1, defines the uncertainity or confidence interval\n",
    "            changepoint_range (float): a float number between 0 to 1, denotes the percentage of data from start to be used for changepoint detection\n",
    "\n",
    "        Returns:\n",
    "            self.model (Prophet): Trained model for deep analysis outside the class (by default predict method takes self.model)\n",
    "        \"\"\"\n",
    "        self.model = Prophet.Prophet(changepoint_range = changepoint_range, interval_width = interval_width)\n",
    "        self.model = self.model.fit(self.ts)\n",
    "        return self.model\n",
    "               \n",
    "    def predict(self):\n",
    "        \"\"\"Predicts the confidence interval range and detects anomalies in a dataset\n",
    "\n",
    "        Args:\n",
    "            None\n",
    "\n",
    "        Returns:\n",
    "            Anomalies (pandas dataframe): the initially sent time series dataframe with additionally added anomaly series for each record \n",
    "        \"\"\"\n",
    "        if self.model:\n",
    "            forecast = self.model.predict(self.ts)\n",
    "            forecast['fact'] = self.ts['y'].reset_index(drop = True)\n",
    "            forecasted = forecast[['ds','trend', 'yhat', 'yhat_lower', 'yhat_upper', 'fact']].copy()\n",
    "            forecasted['anomaly'] = 0\n",
    "            forecasted.loc[forecasted['fact'] > forecasted['yhat_upper'], 'anomaly'] = 1\n",
    "            forecasted.loc[forecasted['fact'] < forecasted['yhat_lower'], 'anomaly'] = -1\n",
    "            anomalies = forecasted[['ds', 'fact', 'anomaly']].rename(columns={'ds':self.date_name, 'fact':self.kpi_name})\n",
    "            return anomalies\n",
    "        else:\n",
    "            raise ValueError(\"self.model is None, Check if model fit is success\")\n",
    "\n"
   ]
  },
  {
   "cell_type": "code",
   "execution_count": 200,
   "id": "bd296c4b-24bc-4b63-8999-8160f53137c0",
   "metadata": {},
   "outputs": [],
   "source": [
    "class IQRForAnomalyDetector(AnomalyDetector):\n",
    "    \n",
    "\n",
    "    def __init__(self, time_series):\n",
    "        \"\"\"Initialize the time series\n",
    "\n",
    "        Args:\n",
    "            time_series (pandas Series): valid time series sequence without dt or ds\n",
    "        \"\"\"\n",
    "        self.ts = time_series.copy()\n",
    "        if len(self.ts.columns) != 2:\n",
    "            raise ValueError(\"Need two columns, in the dataframe, one with date and another with kpi\")\n",
    "        self.kpi_name = self.ts.columns[1]\n",
    "        self.date_name = self.ts.columns[0]\n",
    "        self.stationarity = False\n",
    "        self.limits = None\n",
    "        self.resid = None\n",
    "\n",
    "    def get_limits(self, time_series, threshold):\n",
    "        \"\"\"Calculates lower and upper limit for Anomaly detection using IQR method\n",
    "\n",
    "        Args:\n",
    "            time_series (pandas series): \n",
    "            threshold (float): threshold multiplier with IQR, defaults to 1.5\n",
    "\n",
    "        Returns:\n",
    "            low_lim (float): lower limit for the IQR\n",
    "            up_lim (float): upper limit for the IQR\n",
    "        \"\"\"\n",
    "        \n",
    "        Q1 = time_series[self.kpi_name].quantile(0.25)\n",
    "        Q3 = time_series[self.kpi_name].quantile(0.75)\n",
    "        IQR = Q3 - Q1\n",
    "        low_lim = Q1 - threshold * IQR\n",
    "        up_lim = Q3 + threshold * IQR\n",
    "        return low_lim, up_lim\n",
    "        \n",
    "    def fit(self, threshold = 1.5):\n",
    "        \"\"\"Fits the time series data, checks stationarity and computes limits for IQR as required\n",
    "\n",
    "        Args:\n",
    "            threshold: threshold multiplier with IQR, defaults to 1.5\n",
    "\n",
    "        Returns:\n",
    "            self.limits (tuple): (low_lim, up_lim) for IQR\n",
    "        \"\"\"\n",
    "        darts_time_series = TimeSeriesStats(self.ts[self.kpi_name])\n",
    "        stationarity = darts_time_series.check_stationarity()\n",
    "        if stationarity:\n",
    "            low_lim, up_lim = self.get_limits(self.ts, threshold)\n",
    "        else:\n",
    "            seasonality_results = darts_time_series.check_seasonality_period()\n",
    "            resid = darts_time_series.get_residuals(self.ts, seasonality_results)\n",
    "            resid_df = pd.DataFrame({self.kpi_name: resid})\n",
    "            resid_df.index = self.ts.index\n",
    "            self.resid = resid_df\n",
    "            self.limits = self.get_limits(self.resid ,threshold)\n",
    "        return self.limits\n",
    "\n",
    "    \n",
    "    def predict(self):\n",
    "        \"\"\"Predicts the anomalies based on the lower limit and upper limit for IQR range from time series or residuals\n",
    "\n",
    "        Args:\n",
    "            None\n",
    "\n",
    "        Returns:\n",
    "            Anomalies (pandas dataframe): the initially sent time series dataframe with additionally added anomaly series for each record\n",
    "        \"\"\"\n",
    "        self.ts['anomaly'] = 0\n",
    "        if self.limits is None:\n",
    "            raise ValueError(\"Upper and lower limits for IQR is not decided yet\")\n",
    "        if self.resid is not None:\n",
    "            self.resid['anomaly'] = 0\n",
    "            self.resid.loc[self.resid[self.kpi_name].lt(self.limits[0]), 'anomaly'] = -1\n",
    "            self.resid.loc[self.resid[self.kpi_name].gt(self.limits[1]), 'anomaly'] = 1\n",
    "            self.ts['anomaly'] = self.resid['anomaly']\n",
    "        else:\n",
    "            self.ts.loc[self.ts[self.kpi_name].lt(self.limits[0]), 'anomaly'] = -1\n",
    "            self.ts.loc[self.ts[self.kpi_name].gt(self.limits[1]), 'anomaly'] = 1\n",
    "        anomalies = self.ts\n",
    "        return anomalies\n",
    "\n",
    "\n",
    "class RobustZForAnomalyDetector:\n",
    "\n",
    "    def __init__(self, time_series):\n",
    "        \"\"\"Initialize the time series\n",
    "\n",
    "        Args:\n",
    "            time_series (pandas Series): valid time series sequence without dt or ds\n",
    "        \"\"\"\n",
    "        self.ts = time_series.copy()\n",
    "        if len(self.ts.columns) != 2:\n",
    "            raise ValueError(\"Need two columns, in the dataframe, one with date and another with kpi\")\n",
    "        self.kpi_name = self.ts.columns[1]\n",
    "        self.date_name = self.ts.columns[0]\n",
    "        self.stationarity = False\n",
    "        self.z_thresh = None\n",
    "        self.mad = None\n",
    "        self.median = None\n",
    "\n",
    "    def robust_z_score(self, time_series_value):\n",
    "        \"\"\"Calculate robust z score based on the formula\n",
    "\n",
    "        Args:\n",
    "            time_series_value (float): value from a series for which z-score to be calculated\n",
    "\n",
    "        Returns:\n",
    "            z_score (float): score based on the formula\n",
    "        \"\"\"\n",
    "        z_score = 0.6745 * (time_series_value - self.median)/self.mad\n",
    "        return z_score\n",
    "    \n",
    "    def fit(self, threshold = 3.5):\n",
    "        \"\"\"Fits the time series data and calculates the z-score\n",
    "\n",
    "        Args:\n",
    "            threshold (float): score threshold for anomaly, defaults to 3.5\n",
    "\n",
    "        Returns:\n",
    "            time_series_z_score (pandas series): the z-score calculated for all rows\n",
    "        \"\"\"\n",
    "        self.threshold = threshold\n",
    "        self.mad = median_abs_deviation(self.ts[self.kpi_name])\n",
    "        self.median = np.median(self.ts[self.kpi_name])\n",
    "        if self.mad == 0:\n",
    "            self.mad = 0.1\n",
    "        self.ts['z_score'] = self.ts[self.kpi_name].apply(self.robust_z_score)\n",
    "        return self.ts['z_score']\n",
    "        \n",
    "\n",
    "    def predict(self):\n",
    "        \"\"\"Predicts based on the threshold value for z-score, if the record is anomaly or not\n",
    "\n",
    "        Args:\n",
    "            None\n",
    "        \"\"\"\n",
    "        self.ts['anomaly'] = 0\n",
    "        self.ts.loc[self.ts['z_score']>=self.threshold, 'anomaly'] = 1\n",
    "        self.ts.loc[self.ts['z_score']<=-self.threshold, 'anomaly'] = -1\n",
    "        anomalies = self.ts[[self.date_name, self.kpi_name, 'anomaly']]\n",
    "        return anomalies\n",
    "        \n",
    "        \n",
    "\n",
    "\n"
   ]
  },
  {
   "cell_type": "code",
   "execution_count": 201,
   "id": "49919aef-ac31-4e65-b7ef-82849b40df44",
   "metadata": {},
   "outputs": [
    {
     "data": {
      "text/html": [
       "<div>\n",
       "<style scoped>\n",
       "    .dataframe tbody tr th:only-of-type {\n",
       "        vertical-align: middle;\n",
       "    }\n",
       "\n",
       "    .dataframe tbody tr th {\n",
       "        vertical-align: top;\n",
       "    }\n",
       "\n",
       "    .dataframe thead th {\n",
       "        text-align: right;\n",
       "    }\n",
       "</style>\n",
       "<table border=\"1\" class=\"dataframe\">\n",
       "  <thead>\n",
       "    <tr style=\"text-align: right;\">\n",
       "      <th></th>\n",
       "      <th>Date</th>\n",
       "      <th>Total</th>\n",
       "    </tr>\n",
       "  </thead>\n",
       "  <tbody>\n",
       "    <tr>\n",
       "      <th>0</th>\n",
       "      <td>1986-1-01</td>\n",
       "      <td>9034</td>\n",
       "    </tr>\n",
       "    <tr>\n",
       "      <th>1</th>\n",
       "      <td>1986-2-01</td>\n",
       "      <td>9596</td>\n",
       "    </tr>\n",
       "    <tr>\n",
       "      <th>2</th>\n",
       "      <td>1986-3-01</td>\n",
       "      <td>10558</td>\n",
       "    </tr>\n",
       "    <tr>\n",
       "      <th>3</th>\n",
       "      <td>1986-4-01</td>\n",
       "      <td>9002</td>\n",
       "    </tr>\n",
       "    <tr>\n",
       "      <th>4</th>\n",
       "      <td>1986-5-01</td>\n",
       "      <td>9239</td>\n",
       "    </tr>\n",
       "  </tbody>\n",
       "</table>\n",
       "</div>"
      ],
      "text/plain": [
       "        Date  Total\n",
       "0  1986-1-01   9034\n",
       "1  1986-2-01   9596\n",
       "2  1986-3-01  10558\n",
       "3  1986-4-01   9002\n",
       "4  1986-5-01   9239"
      ]
     },
     "execution_count": 201,
     "metadata": {},
     "output_type": "execute_result"
    }
   ],
   "source": [
    "import pandas as pd\n",
    "cat_fish = pd.read_csv('catfish.csv')\n",
    "cat_fish.head()"
   ]
  },
  {
   "cell_type": "code",
   "execution_count": 202,
   "id": "b503e5f4-a162-4ddb-9ddb-1fcbeffd220a",
   "metadata": {},
   "outputs": [],
   "source": [
    "pad = ProphetForAnomalyDetector(cat_fish)"
   ]
  },
  {
   "cell_type": "code",
   "execution_count": 203,
   "id": "3fceac22-6e41-4296-9ae4-b095230c7664",
   "metadata": {},
   "outputs": [],
   "source": [
    "pad.transform()"
   ]
  },
  {
   "cell_type": "code",
   "execution_count": 204,
   "id": "3a978c7d-bd24-46fb-ba2b-bb060a5f24ed",
   "metadata": {},
   "outputs": [
    {
     "name": "stderr",
     "output_type": "stream",
     "text": [
      "14:39:20 - cmdstanpy - INFO - Chain [1] start processing\n",
      "14:39:20 - cmdstanpy - INFO - Chain [1] done processing\n"
     ]
    },
    {
     "data": {
      "text/plain": [
       "<prophet.forecaster.Prophet at 0x1757ff8e0>"
      ]
     },
     "execution_count": 204,
     "metadata": {},
     "output_type": "execute_result"
    }
   ],
   "source": [
    "pad.fit()"
   ]
  },
  {
   "cell_type": "code",
   "execution_count": null,
   "id": "3aa64674-a196-4765-9877-b135ad6f1f0b",
   "metadata": {},
   "outputs": [],
   "source": []
  },
  {
   "cell_type": "code",
   "execution_count": 205,
   "id": "647b928f-09c9-4690-90c0-6ca23456589d",
   "metadata": {},
   "outputs": [
    {
     "name": "stdout",
     "output_type": "stream",
     "text": [
      "Date Total\n"
     ]
    }
   ],
   "source": [
    "anomalies = pad.predict()"
   ]
  },
  {
   "cell_type": "code",
   "execution_count": 206,
   "id": "c6d7d9f9-2ef8-463e-9994-d545a1ebdd2d",
   "metadata": {},
   "outputs": [
    {
     "data": {
      "text/html": [
       "<div>\n",
       "<style scoped>\n",
       "    .dataframe tbody tr th:only-of-type {\n",
       "        vertical-align: middle;\n",
       "    }\n",
       "\n",
       "    .dataframe tbody tr th {\n",
       "        vertical-align: top;\n",
       "    }\n",
       "\n",
       "    .dataframe thead th {\n",
       "        text-align: right;\n",
       "    }\n",
       "</style>\n",
       "<table border=\"1\" class=\"dataframe\">\n",
       "  <thead>\n",
       "    <tr style=\"text-align: right;\">\n",
       "      <th></th>\n",
       "      <th>Date</th>\n",
       "      <th>Total</th>\n",
       "      <th>anomaly</th>\n",
       "    </tr>\n",
       "  </thead>\n",
       "  <tbody>\n",
       "    <tr>\n",
       "      <th>0</th>\n",
       "      <td>1986-01-01</td>\n",
       "      <td>9034</td>\n",
       "      <td>0</td>\n",
       "    </tr>\n",
       "    <tr>\n",
       "      <th>1</th>\n",
       "      <td>1986-02-01</td>\n",
       "      <td>9596</td>\n",
       "      <td>0</td>\n",
       "    </tr>\n",
       "    <tr>\n",
       "      <th>2</th>\n",
       "      <td>1986-03-01</td>\n",
       "      <td>10558</td>\n",
       "      <td>0</td>\n",
       "    </tr>\n",
       "    <tr>\n",
       "      <th>3</th>\n",
       "      <td>1986-04-01</td>\n",
       "      <td>9002</td>\n",
       "      <td>0</td>\n",
       "    </tr>\n",
       "    <tr>\n",
       "      <th>4</th>\n",
       "      <td>1986-05-01</td>\n",
       "      <td>9239</td>\n",
       "      <td>0</td>\n",
       "    </tr>\n",
       "    <tr>\n",
       "      <th>...</th>\n",
       "      <td>...</td>\n",
       "      <td>...</td>\n",
       "      <td>...</td>\n",
       "    </tr>\n",
       "    <tr>\n",
       "      <th>319</th>\n",
       "      <td>2012-08-01</td>\n",
       "      <td>14442</td>\n",
       "      <td>0</td>\n",
       "    </tr>\n",
       "    <tr>\n",
       "      <th>320</th>\n",
       "      <td>2012-09-01</td>\n",
       "      <td>13422</td>\n",
       "      <td>0</td>\n",
       "    </tr>\n",
       "    <tr>\n",
       "      <th>321</th>\n",
       "      <td>2012-10-01</td>\n",
       "      <td>13795</td>\n",
       "      <td>0</td>\n",
       "    </tr>\n",
       "    <tr>\n",
       "      <th>322</th>\n",
       "      <td>2012-11-01</td>\n",
       "      <td>13352</td>\n",
       "      <td>0</td>\n",
       "    </tr>\n",
       "    <tr>\n",
       "      <th>323</th>\n",
       "      <td>2012-12-01</td>\n",
       "      <td>12716</td>\n",
       "      <td>0</td>\n",
       "    </tr>\n",
       "  </tbody>\n",
       "</table>\n",
       "<p>324 rows × 3 columns</p>\n",
       "</div>"
      ],
      "text/plain": [
       "          Date  Total  anomaly\n",
       "0   1986-01-01   9034        0\n",
       "1   1986-02-01   9596        0\n",
       "2   1986-03-01  10558        0\n",
       "3   1986-04-01   9002        0\n",
       "4   1986-05-01   9239        0\n",
       "..         ...    ...      ...\n",
       "319 2012-08-01  14442        0\n",
       "320 2012-09-01  13422        0\n",
       "321 2012-10-01  13795        0\n",
       "322 2012-11-01  13352        0\n",
       "323 2012-12-01  12716        0\n",
       "\n",
       "[324 rows x 3 columns]"
      ]
     },
     "execution_count": 206,
     "metadata": {},
     "output_type": "execute_result"
    }
   ],
   "source": [
    "anomalies"
   ]
  },
  {
   "cell_type": "code",
   "execution_count": 207,
   "id": "e71b30f3-37ce-4a6d-a09c-aa0ef18fe9f0",
   "metadata": {},
   "outputs": [
    {
     "data": {
      "text/html": [
       "<div>\n",
       "<style scoped>\n",
       "    .dataframe tbody tr th:only-of-type {\n",
       "        vertical-align: middle;\n",
       "    }\n",
       "\n",
       "    .dataframe tbody tr th {\n",
       "        vertical-align: top;\n",
       "    }\n",
       "\n",
       "    .dataframe thead th {\n",
       "        text-align: right;\n",
       "    }\n",
       "</style>\n",
       "<table border=\"1\" class=\"dataframe\">\n",
       "  <thead>\n",
       "    <tr style=\"text-align: right;\">\n",
       "      <th></th>\n",
       "      <th>Date</th>\n",
       "      <th>Total</th>\n",
       "      <th>anomaly</th>\n",
       "    </tr>\n",
       "  </thead>\n",
       "  <tbody>\n",
       "    <tr>\n",
       "      <th>289</th>\n",
       "      <td>2010-02-01</td>\n",
       "      <td>22617</td>\n",
       "      <td>1</td>\n",
       "    </tr>\n",
       "    <tr>\n",
       "      <th>296</th>\n",
       "      <td>2010-09-01</td>\n",
       "      <td>20280</td>\n",
       "      <td>1</td>\n",
       "    </tr>\n",
       "  </tbody>\n",
       "</table>\n",
       "</div>"
      ],
      "text/plain": [
       "          Date  Total  anomaly\n",
       "289 2010-02-01  22617        1\n",
       "296 2010-09-01  20280        1"
      ]
     },
     "execution_count": 207,
     "metadata": {},
     "output_type": "execute_result"
    }
   ],
   "source": [
    "anomalies[anomalies['anomaly']==1]"
   ]
  },
  {
   "cell_type": "code",
   "execution_count": 208,
   "id": "f27d6f9b-d691-40b2-941f-7b60376c6130",
   "metadata": {},
   "outputs": [
    {
     "name": "stdout",
     "output_type": "stream",
     "text": [
      "(-2102.2167914575443, 2137.207960229119)\n",
      "           Total  anomaly\n",
      "time                     \n",
      "0     287.555972        0\n",
      "1     449.308706        0\n",
      "2     -33.113408        0\n",
      "3    -714.739555        0\n",
      "4    -902.370412        0\n"
     ]
    },
    {
     "name": "stderr",
     "output_type": "stream",
     "text": [
      "/Users/aswin/miniconda3/envs/mlenv/lib/python3.9/site-packages/darts/utils/statistics.py:467: InterpolationWarning: The test statistic is outside of the range of p-values available in the\n",
      "look-up table. The actual p-value is smaller than the p-value returned.\n",
      "\n",
      "  return kpss(ts.values(copy=False), regression, nlags)\n"
     ]
    }
   ],
   "source": [
    "iad = IQRForAnomalyDetector(cat_fish)\n",
    "iad.fit()\n",
    "iad_anomaly = iad.predict()"
   ]
  },
  {
   "cell_type": "code",
   "execution_count": null,
   "id": "402875a4-058c-46f0-b361-e3b0ced6acb0",
   "metadata": {},
   "outputs": [],
   "source": []
  },
  {
   "cell_type": "code",
   "execution_count": 209,
   "id": "9bb70eb5-f9ba-42d5-9be3-7fb40768285a",
   "metadata": {},
   "outputs": [],
   "source": [
    "zad = RobustZForAnomalyDetector(cat_fish)\n",
    "zad.fit()\n",
    "zad_anomaly = zad.predict()"
   ]
  },
  {
   "cell_type": "code",
   "execution_count": 210,
   "id": "08fa3fa6-b3cd-46d4-9690-ea02796c6f28",
   "metadata": {},
   "outputs": [],
   "source": [
    "total = anomalies['anomaly'] + iad_anomaly['anomaly'] + zad_anomaly['anomaly']"
   ]
  },
  {
   "cell_type": "code",
   "execution_count": 211,
   "id": "9ea4bdd0-153e-489e-8b8a-65d713fb1445",
   "metadata": {},
   "outputs": [
    {
     "data": {
      "text/plain": [
       "289    2\n",
       "Name: anomaly, dtype: int64"
      ]
     },
     "execution_count": 211,
     "metadata": {},
     "output_type": "execute_result"
    }
   ],
   "source": [
    "total[total==2]"
   ]
  },
  {
   "cell_type": "code",
   "execution_count": 212,
   "id": "51577fb2-5837-4254-98c2-1d209e9f8c14",
   "metadata": {},
   "outputs": [
    {
     "data": {
      "image/png": "[encoded data removed]",
      "text/plain": [
       "<Figure size 640x480 with 1 Axes>"
      ]
     },
     "metadata": {},
     "output_type": "display_data"
    }
   ],
   "source": [
    "import matplotlib.pyplot as plt\n",
    "plt.plot(cat_fish.index, cat_fish['Total'], label='Total')\n",
    "plt.scatter(total[total==2].index, cat_fish.loc[total[total==2].index, 'Total'], color='red', label='Anomalies')\n",
    "plt.xlabel('ds')\n",
    "plt.ylabel('y')\n",
    "plt.legend()\n",
    "plt.show()"
   ]
  },
  {
   "cell_type": "code",
   "execution_count": 215,
   "id": "39221aed-da3b-4cab-aae1-fcb5ec30ded2",
   "metadata": {},
   "outputs": [],
   "source": [
    "import datetime\n",
    "sales_data = pd.read_csv('sales_weekly.csv')\n",
    "sales_data.set_index('Product_Code', inplace=True)\n",
    "sales_data_t = sales_data.T\n",
    "sales_final_data = sales_data_t.iloc[:52]\n",
    "df_sales_anomaly = pd.DataFrame(sales_final_data['P1'], columns=['P1'])\n",
    "df_sales_anomaly.index = df_sales_anomaly.index.map(lambda x: '2023 '+x + ' 1')\n",
    "df_sales_anomaly.index = df_sales_anomaly.index.map(lambda x: datetime.datetime.strptime(x, \"%Y W%W %w\"))\n",
    "df_sales_anomaly = df_sales_anomaly.reset_index().rename(columns={\"index\": \"Date\", \"P1\":\"Sales_1\"})"
   ]
  },
  {
   "cell_type": "code",
   "execution_count": 220,
   "id": "bfaaabe2-73f4-41af-ae32-3cc54c7b7cb1",
   "metadata": {},
   "outputs": [
    {
     "data": {
      "text/html": [
       "<div>\n",
       "<style scoped>\n",
       "    .dataframe tbody tr th:only-of-type {\n",
       "        vertical-align: middle;\n",
       "    }\n",
       "\n",
       "    .dataframe tbody tr th {\n",
       "        vertical-align: top;\n",
       "    }\n",
       "\n",
       "    .dataframe thead th {\n",
       "        text-align: right;\n",
       "    }\n",
       "</style>\n",
       "<table border=\"1\" class=\"dataframe\">\n",
       "  <thead>\n",
       "    <tr style=\"text-align: right;\">\n",
       "      <th></th>\n",
       "      <th>Date</th>\n",
       "      <th>Sales_1</th>\n",
       "    </tr>\n",
       "  </thead>\n",
       "  <tbody>\n",
       "    <tr>\n",
       "      <th>0</th>\n",
       "      <td>2022-12-26</td>\n",
       "      <td>11.0</td>\n",
       "    </tr>\n",
       "    <tr>\n",
       "      <th>1</th>\n",
       "      <td>2023-01-02</td>\n",
       "      <td>12.0</td>\n",
       "    </tr>\n",
       "    <tr>\n",
       "      <th>2</th>\n",
       "      <td>2023-01-09</td>\n",
       "      <td>10.0</td>\n",
       "    </tr>\n",
       "    <tr>\n",
       "      <th>3</th>\n",
       "      <td>2023-01-16</td>\n",
       "      <td>8.0</td>\n",
       "    </tr>\n",
       "    <tr>\n",
       "      <th>4</th>\n",
       "      <td>2023-01-23</td>\n",
       "      <td>13.0</td>\n",
       "    </tr>\n",
       "  </tbody>\n",
       "</table>\n",
       "</div>"
      ],
      "text/plain": [
       "        Date  Sales_1\n",
       "0 2022-12-26     11.0\n",
       "1 2023-01-02     12.0\n",
       "2 2023-01-09     10.0\n",
       "3 2023-01-16      8.0\n",
       "4 2023-01-23     13.0"
      ]
     },
     "execution_count": 220,
     "metadata": {},
     "output_type": "execute_result"
    }
   ],
   "source": [
    "df_sales_anomaly.head()"
   ]
  },
  {
   "cell_type": "code",
   "execution_count": 236,
   "id": "d00ece6d-dbad-478c-ab9e-684faf6c626c",
   "metadata": {},
   "outputs": [
    {
     "name": "stderr",
     "output_type": "stream",
     "text": [
      "15:00:14 - cmdstanpy - INFO - Chain [1] start processing\n",
      "15:00:14 - cmdstanpy - INFO - Chain [1] done processing\n"
     ]
    },
    {
     "name": "stdout",
     "output_type": "stream",
     "text": [
      "Index(['ds', 'y'], dtype='object') Sales_1 Date\n",
      "Date Sales_1\n",
      "(-4.6019461764494345, 4.6206112300817175)\n",
      "       Sales_1  anomaly\n",
      "time                   \n",
      "0    -1.127649        0\n",
      "1     1.941035        0\n",
      "2    -0.199047        0\n",
      "3    -2.330486        0\n",
      "4     2.559922        0\n"
     ]
    },
    {
     "data": {
      "image/png": "[encoded data removed]",
      "text/plain": [
       "<Figure size 640x480 with 1 Axes>"
      ]
     },
     "metadata": {},
     "output_type": "display_data"
    }
   ],
   "source": [
    "df = df_sales_anomaly\n",
    "\n",
    "pad = ProphetForAnomalyDetector(df)\n",
    "pad.transform()\n",
    "pad.fit()\n",
    "pad_anomaly = pad.predict()\n",
    "\n",
    "iad = IQRForAnomalyDetector(df)\n",
    "iad.fit()\n",
    "iad_anomaly = iad.predict()\n",
    "\n",
    "zad = RobustZForAnomalyDetector(df)\n",
    "zad.fit()\n",
    "zad_anomaly = zad.predict()\n",
    "\n",
    "total = pad_anomaly['anomaly'] + iad_anomaly['anomaly'] + zad_anomaly['anomaly']\n",
    "\n",
    "\n",
    "plt.plot(df.index, df['Sales_1'], label='Sales 1')\n",
    "plt.scatter(total[total==2].index, df.loc[total[total==2].index, 'Sales_1'], color='red', label='Anomalies')\n",
    "plt.xlabel('Time index')\n",
    "plt.ylabel('value')\n",
    "plt.legend()\n",
    "plt.show()"
   ]
  },
  {
   "cell_type": "code",
   "execution_count": null,
   "id": "62ef9932-fefe-4c98-8c60-cfd3149d5db1",
   "metadata": {},
   "outputs": [],
   "source": []
  }
 ],
 "metadata": {
  "kernelspec": {
   "display_name": "Python 3 (ipykernel)",
   "language": "python",
   "name": "python3"
  },
  "language_info": {
   "codemirror_mode": {
    "name": "ipython",
    "version": 3
   },
   "file_extension": ".py",
   "mimetype": "text/x-python",
   "name": "python",
   "nbconvert_exporter": "python",
   "pygments_lexer": "ipython3",
   "version": "3.9.18"
  }
 },
 "nbformat": 4,
 "nbformat_minor": 5
}
